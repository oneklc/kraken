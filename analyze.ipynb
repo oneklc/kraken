{
 "cells": [
  {
   "cell_type": "code",
   "execution_count": 1,
   "metadata": {
    "collapsed": true
   },
   "outputs": [],
   "source": [
    "from monitor import utc_to_tz\n",
    "from dateutil import tz\n",
    "from datetime import datetime\n",
    "import krakenex\n",
    "import pymongo\n",
    "import networkx as nx\n",
    "import pandas\n",
    "import numpy as np\n",
    "import tqdm\n",
    "import seaborn\n",
    "from matplotlib import pyplot as plt\n",
    "import collections"
   ]
  },
  {
   "cell_type": "code",
   "execution_count": 2,
   "metadata": {
    "collapsed": true
   },
   "outputs": [],
   "source": [
    "def kraken_ticker_to_last_prices(ticker):\n",
    "    kraken_fee = 1-0.26/100.\n",
    "    prices = {}\n",
    "    for asset_name in ticker:\n",
    "        if 'DASH' in asset_name:\n",
    "            continue\n",
    "        assert len(asset_name) == 8\n",
    "        base = asset_name[:4]\n",
    "        quote = asset_name[4:]\n",
    "        assert (base, quote) not in prices\n",
    "        assert (quote, base) not in prices\n",
    "        last_price, last_volume = map(float, ticker[asset_name]['c'])\n",
    "        assert last_price > 0\n",
    "        prices[base, quote] = last_price * kraken_fee\n",
    "        prices[quote, base] = 1./last_price * kraken_fee\n",
    "    return prices"
   ]
  },
  {
   "cell_type": "code",
   "execution_count": 3,
   "metadata": {
    "collapsed": true
   },
   "outputs": [],
   "source": [
    "def poloniex_ticker_to_last_prices(ticker):\n",
    "    poloniex_fee = 1-0.25/100.\n",
    "    prices = {}\n",
    "    for asset_name in ticker:\n",
    "        base, quote = asset_name.split('_')\n",
    "        assert (base, quote) not in prices\n",
    "        assert (quote, base) not in prices\n",
    "        last_price = float(ticker[asset_name]['last'])\n",
    "        assert last_price > 0\n",
    "        prices[base, quote] = last_price * poloniex_fee\n",
    "        prices[quote, base] = 1./last_price * poloniex_fee\n",
    "    return prices"
   ]
  },
  {
   "cell_type": "code",
   "execution_count": null,
   "metadata": {
    "collapsed": true
   },
   "outputs": [],
   "source": [
    "def xbtce_ticker_to_last_prices(ticker):\n",
    "    prices = {}\n",
    "    for asset in ticker:\n",
    "        name = asset['Symbol']\n",
    "        assert len(name) == 6\n",
    "        base = name[:3]\n",
    "        quote = name[4:]\n",
    "        assert (base, quote) not in prices\n",
    "        assert (quote, base) not in prices\n",
    "        last_buy_price = asset['LastBuyPrice']\n",
    "        last_sell_price = asset['LastSellPrice']\n",
    "        prices[base, quote] = last_sell_price\n",
    "        assert last_sell_price > 0\n",
    "        prices[quote, base] = last_buy_price\n",
    "        assert last_buy_price > 0\n",
    "    return prices"
   ]
  }
 ],
 "metadata": {
  "kernelspec": {
   "display_name": "Python 2",
   "language": "python",
   "name": "python2"
  },
  "language_info": {
   "codemirror_mode": {
    "name": "ipython",
    "version": 2
   },
   "file_extension": ".py",
   "mimetype": "text/x-python",
   "name": "python",
   "nbconvert_exporter": "python",
   "pygments_lexer": "ipython2",
   "version": "2.7.13"
  }
 },
 "nbformat": 4,
 "nbformat_minor": 2
}
